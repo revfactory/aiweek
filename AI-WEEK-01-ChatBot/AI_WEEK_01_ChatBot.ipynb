{
  "cells": [
    {
      "cell_type": "markdown",
      "source": [
        "# AI-WEEK-01-ChatBot"
      ],
      "metadata": {
        "id": "1YXzYjcw8VCE"
      }
    },
    {
      "cell_type": "markdown",
      "metadata": {
        "id": "aW_--ryV497s"
      },
      "source": [
        "## 1. OpenAI API를 이용해서 질문 해보기"
      ]
    },
    {
      "cell_type": "markdown",
      "metadata": {
        "id": "qL33HNQW5Hsu"
      },
      "source": [
        "### 1-1. openai 라이브러리 설치"
      ]
    },
    {
      "cell_type": "code",
      "execution_count": null,
      "metadata": {
        "id": "DxO_ItEBRE-L"
      },
      "outputs": [],
      "source": [
        "!pip install openai"
      ]
    },
    {
      "cell_type": "markdown",
      "metadata": {
        "id": "2Fwk8dRK5SAV"
      },
      "source": [
        "### 1-2. OpenAI API Key 설정"
      ]
    },
    {
      "cell_type": "code",
      "execution_count": null,
      "metadata": {
        "id": "SgGK78fhXE0Z"
      },
      "outputs": [],
      "source": [
        "import openai\n",
        "openai.api_key='{OPEN_API_KEY}'"
      ]
    },
    {
      "cell_type": "markdown",
      "metadata": {
        "id": "x0eUJhaN5fzT"
      },
      "source": [
        "### 1-3. API로 전달할 메세지 작성"
      ]
    },
    {
      "cell_type": "code",
      "execution_count": null,
      "metadata": {
        "id": "Nc-3UYhRXeQr"
      },
      "outputs": [],
      "source": [
        "messages = [\n",
        "    {\n",
        "        \"role\": \"system\",\n",
        "        \"content\": \"당신은 질문에 대한 답변을 해주는 친절한 챗봇입니다. 응답은 한글로 주세요.\"\n",
        "    },\n",
        "    {\n",
        "        \"role\": \"user\",\n",
        "        \"content\": \"오늘 저녁 메뉴 하나만 추천해줘\"\n",
        "    }\n",
        "]"
      ]
    },
    {
      "cell_type": "markdown",
      "metadata": {
        "id": "hHeM37aw5qzM"
      },
      "source": [
        "### 1-4. API 호출"
      ]
    },
    {
      "cell_type": "code",
      "execution_count": null,
      "metadata": {
        "id": "nUm8eBIxYHdY"
      },
      "outputs": [],
      "source": [
        "response = openai.ChatCompletion.create(\n",
        "    model=\"gpt-3.5-turbo\", messages=messages\n",
        ")"
      ]
    },
    {
      "cell_type": "markdown",
      "source": [
        "### 1-5. 응답 결과 확인"
      ],
      "metadata": {
        "id": "9O-S9_qJ6j9r"
      }
    },
    {
      "cell_type": "code",
      "execution_count": null,
      "metadata": {
        "id": "IhAlVu8MZXjt"
      },
      "outputs": [],
      "source": [
        "response.choices[0].message.content"
      ]
    },
    {
      "cell_type": "markdown",
      "source": [
        "### 1-6 응용 해보기\n",
        "- 시스템 메세지에 \"응답을 이모지를 포함해주세요\" 추가\n",
        "- 다른 질문으로 변경"
      ],
      "metadata": {
        "id": "8uZtSaAx68YU"
      }
    },
    {
      "cell_type": "markdown",
      "source": [
        "## 2. 간단한 챗봇 만들기"
      ],
      "metadata": {
        "id": "Asp95s2U8Z6A"
      }
    },
    {
      "cell_type": "markdown",
      "source": [
        "위의 1-2 까지 진행한 상태에서 아래 셀을 수행합니다."
      ],
      "metadata": {
        "id": "bucbtJge-KRy"
      }
    },
    {
      "cell_type": "markdown",
      "source": [
        "### 2-1. 챗봇 역할 부여하기\n",
        "- 꿈 해설가 챗봇을 만들어봅니다.  \n",
        "- system 메세지에 해당 프롬프트를 넣어주세요.  \n",
        "- 프롬프트  \n",
        "  I want you to act as a dream interpreter. I will give you descriptions of my dreams, and you will provide interpretations based on the symbols and themes present in the dream. Do not provide personal opinions or assumptions about the dreamer. Provide only factual interpretations based on the information given. Please reply to my request in Korean"
      ],
      "metadata": {
        "id": "TM4obXzi-WSC"
      }
    },
    {
      "cell_type": "code",
      "source": [
        "botName = \"꿈해설가\"\n",
        "messages = [\n",
        "    {\n",
        "        \"role\": \"system\",\n",
        "        \"content\": \"I want you to act as a dream interpreter. I will give you descriptions of my dreams, and you will provide interpretations based on the symbols and themes present in the dream. Do not provide personal opinions or assumptions about the dreamer. Provide only factual interpretations based on the information given. Please reply to my request in Korean\"      \n",
        "    }\n",
        "]"
      ],
      "metadata": {
        "id": "eX8uWFUw-xN1"
      },
      "execution_count": null,
      "outputs": []
    },
    {
      "cell_type": "markdown",
      "source": [
        "2-2. 챗봇과 대화하는 로직 작성\n",
        "- while 문을 이용하여, 대화를 계속 이어나갑니다.  \n",
        "- 그냥 Enter를 치면 대화를 종료합니다.  "
      ],
      "metadata": {
        "id": "2dxCGHIzAXoq"
      }
    },
    {
      "cell_type": "code",
      "source": [
        "print(f\"안녕하세요! 저는 {botName} 챗봇입니다! (Enter를 치면 대화를 종료합니다.)\\n\")\n",
        "while True:\n",
        "  userMessage = input(\"입력 : \")\n",
        "  if (userMessage):\n",
        "    messages.append(\n",
        "        {\n",
        "            \"role\": \"user\",\n",
        "            \"content\": userMessage\n",
        "        }\n",
        "    )\n",
        "\n",
        "    print(\"\\n(챗봇이 생각중입니다...)\\n\")\n",
        "\n",
        "    response = openai.ChatCompletion.create(\n",
        "        model = \"gpt-3.5-turbo\",\n",
        "        messages = messages\n",
        "    )\n",
        "    botMessage = response.choices[0].message.content\n",
        "    \n",
        "    print(f\"{botName}: {botMessage} \\n\\n\")\n",
        "\n",
        "    messages.append(\n",
        "        {\n",
        "            \"role\": \"assistant\",\n",
        "            \"content\": botMessage\n",
        "        }\n",
        "    )\n",
        "  else:\n",
        "    print(\"\\n챗봇 대화를 종료합니다.\")\n",
        "    break"
      ],
      "metadata": {
        "id": "7cWIYIe6A0QO"
      },
      "execution_count": null,
      "outputs": []
    },
    {
      "cell_type": "markdown",
      "source": [
        "2-3. 응용 해보기\n",
        "- 시인 챗봇으로 변경해 봅니다.\n",
        "- Prompt  \n",
        "I want you to act as a poet. You will create poems that evoke emotions and have the power to stir people’s soul. Write on any topic or theme but make sure your words convey the feeling you are trying to express in beautiful yet meaningful ways. You can also come up with short verses that are still powerful enough to leave an imprint in readers’ minds. Please reply to my request in Korean\n"
      ],
      "metadata": {
        "id": "bcjtosg8WM63"
      }
    }
  ],
  "metadata": {
    "colab": {
      "toc_visible": true,
      "provenance": []
    },
    "kernelspec": {
      "display_name": "Python 3",
      "name": "python3"
    },
    "language_info": {
      "name": "python"
    }
  },
  "nbformat": 4,
  "nbformat_minor": 0
}