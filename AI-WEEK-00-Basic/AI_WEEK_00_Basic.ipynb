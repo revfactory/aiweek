{
  "nbformat": 4,
  "nbformat_minor": 0,
  "metadata": {
    "colab": {
      "provenance": []
    },
    "kernelspec": {
      "name": "python3",
      "display_name": "Python 3"
    },
    "language_info": {
      "name": "python"
    }
  },
  "cells": [
    {
      "cell_type": "markdown",
      "source": [
        "# OS 환경"
      ],
      "metadata": {
        "id": "rixX9u6745e-"
      }
    },
    {
      "cell_type": "code",
      "execution_count": null,
      "metadata": {
        "id": "Nm4gkSZX4YFJ"
      },
      "outputs": [],
      "source": [
        "!cat /etc/issue.net"
      ]
    },
    {
      "cell_type": "markdown",
      "source": [
        "# CPU 사양"
      ],
      "metadata": {
        "id": "kOKB89RM4yLe"
      }
    },
    {
      "cell_type": "code",
      "source": [
        "!head /proc/cpuinfo"
      ],
      "metadata": {
        "id": "lQCQU2VL4o6Y"
      },
      "execution_count": null,
      "outputs": []
    },
    {
      "cell_type": "markdown",
      "source": [
        "# 메모리 사양"
      ],
      "metadata": {
        "id": "UgMSDqHb5CPF"
      }
    },
    {
      "cell_type": "code",
      "source": [
        "!head -n 3 /proc/meminfo"
      ],
      "metadata": {
        "id": "PP-B5Dqz5EYK"
      },
      "execution_count": null,
      "outputs": []
    },
    {
      "cell_type": "markdown",
      "source": [
        "# 파이썬 버전"
      ],
      "metadata": {
        "id": "ph5VnK7b635-"
      }
    },
    {
      "cell_type": "code",
      "source": [
        "!python --version"
      ],
      "metadata": {
        "id": "5btO1oAv66GG"
      },
      "execution_count": null,
      "outputs": []
    },
    {
      "cell_type": "markdown",
      "source": [
        "# 단축키\n",
        "### 1. 전체 단축키\n",
        "- 단축키 설정 : CTRL/CMD + M H\n",
        "\n",
        "### 2. 셀 관련 단축키\n",
        "- 코드 셀 위에 삽입 (Above) : CTRL/CMD + M A\n",
        "- 코드 셀 아래 삽입 (Bottom) : CTRL/CMD + M B\n",
        "- 코드 셀 삭제 (Delete) : CTRL/CMD + M D\n",
        "- 마크다운 셀 -> 코드 셀 변경 : CTRL/CMD + M Y\n",
        "- 코드 셀 -> 마크다운 셀 변경 : CTRL/CMD + M M\n",
        "- 셀 나누기 : CTRL/CMD + M -\n",
        "- 셀 주석처리 : CTRL/CMD + /\n",
        "\n",
        "### 3. 실행\n",
        "- 해당 셀을 실행하고 커서 유지 : CTRL/CMD + Enter\n",
        "- 해당 셀을 실행하고 다음 셀로 커서 이동 : Shift + Enter\n",
        "- 해당 셀을 실행하고 다음 셀을 생성하여 커서 이동 : ALT + Enter\n"
      ],
      "metadata": {
        "id": "NZxw3_lV8i0h"
      }
    },
    {
      "cell_type": "markdown",
      "source": [
        "# 파일 업로드"
      ],
      "metadata": {
        "id": "-YO0TzWf_mY5"
      }
    },
    {
      "cell_type": "markdown",
      "source": [
        "## 방법1. 직접 업로드하기"
      ],
      "metadata": {
        "id": "Bg1wnRaJBlx_"
      }
    },
    {
      "cell_type": "code",
      "source": [
        "from google.colab import files\n",
        "myfile = files.upload()"
      ],
      "metadata": {
        "id": "mwZO_4jL_umA"
      },
      "execution_count": null,
      "outputs": []
    },
    {
      "cell_type": "markdown",
      "source": [
        "* 업로드 된 파일 Colab 에서 확인하기"
      ],
      "metadata": {
        "id": "xKccD4hGDnln"
      }
    },
    {
      "cell_type": "code",
      "source": [
        "print(myfile)"
      ],
      "metadata": {
        "id": "t-5YBEtmAD1n"
      },
      "execution_count": null,
      "outputs": []
    },
    {
      "cell_type": "code",
      "source": [
        "import io\n",
        "import pandas as pd"
      ],
      "metadata": {
        "id": "DwosDQaVAfBw"
      },
      "execution_count": null,
      "outputs": []
    },
    {
      "cell_type": "code",
      "source": [
        "data = pd.read_csv(io.BytesIO(myfile['example.csv']))\n",
        "data.head()"
      ],
      "metadata": {
        "id": "xqmO-DrfAjdN"
      },
      "execution_count": null,
      "outputs": []
    },
    {
      "cell_type": "markdown",
      "source": [
        "## 방법2. 구글 드라이브에서 가져오기"
      ],
      "metadata": {
        "id": "_fSd2EH5DCOD"
      }
    },
    {
      "cell_type": "code",
      "source": [
        "from google.colab import drive\n",
        "drive.mount('/content/drive')"
      ],
      "metadata": {
        "id": "SKVMo4xeDWDl"
      },
      "execution_count": null,
      "outputs": []
    },
    {
      "cell_type": "code",
      "source": [
        "data = pd.read_csv('/content/drive/MyDrive/example.csv')"
      ],
      "metadata": {
        "id": "ZByQM5WxFKdD"
      },
      "execution_count": null,
      "outputs": []
    },
    {
      "cell_type": "code",
      "source": [
        "data.head()"
      ],
      "metadata": {
        "id": "3jKDzvqQFtAq"
      },
      "execution_count": null,
      "outputs": []
    },
    {
      "cell_type": "markdown",
      "source": [
        "TIP) GitHub 에 ipynb 파일이 있을 때, colab로 바로 불러오는 방법\n",
        "- Github 전체 URL 에서 ```github.com/``` 을 ```colab.research.google.com/github/``` 으로 변경"
      ],
      "metadata": {
        "id": "zmSNGwULGTX4"
      }
    },
    {
      "cell_type": "markdown",
      "source": [
        "# 파이썬 실행"
      ],
      "metadata": {
        "id": "t6FyTmfDHP5d"
      }
    },
    {
      "cell_type": "code",
      "source": [
        "\"hello world\""
      ],
      "metadata": {
        "id": "ejd-GV92HT6o"
      },
      "execution_count": null,
      "outputs": []
    },
    {
      "cell_type": "code",
      "source": [
        "\"Hello Word\"\n",
        "\"ChatGPT 실습\""
      ],
      "metadata": {
        "id": "5MWc7icIHhLG"
      },
      "execution_count": null,
      "outputs": []
    },
    {
      "cell_type": "code",
      "source": [
        "print(\"Hello Word\")\n",
        "print(\"ChatGPT 실습\")"
      ],
      "metadata": {
        "id": "-qBI8veBHtg5"
      },
      "execution_count": null,
      "outputs": []
    },
    {
      "cell_type": "code",
      "source": [
        "a = 10\n",
        "b = 5\n",
        "print(a + b)"
      ],
      "metadata": {
        "id": "JFAZDL-xH19L"
      },
      "execution_count": null,
      "outputs": []
    },
    {
      "cell_type": "code",
      "source": [
        "tags = ['ai', 'chatgpt', 'robin', 'kakao']\n",
        "print(tags[1])"
      ],
      "metadata": {
        "id": "8U8hnbg0H_Yd"
      },
      "execution_count": null,
      "outputs": []
    },
    {
      "cell_type": "markdown",
      "source": [
        "## 파이썬 라이브러리\n",
        "\n",
        "- ```import 라이브러리``` : 라이브러리 전체를 import 하여 사용\n",
        "- ```import 라이브러리 as 새 이름``` : 라이브러리 전체를 import 하여 사용하는데, 앞으로는 새 이름으로 호출\n",
        "- ```from 라이브러리 import 모듈``` : 라이브러리에 있는 특정 모듈을 import 하여 사용, 모듈 이름을 바로 사용\n",
        "- ```from 라이브러리 import *``` : 라이브러리에 있는 모든 모듈들을 import 하여 사용, 모듈 이름을 바로 사용"
      ],
      "metadata": {
        "id": "wn6Ia0qoIyIy"
      }
    }
  ]
}