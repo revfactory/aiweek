{
  "nbformat": 4,
  "nbformat_minor": 0,
  "metadata": {
    "colab": {
      "provenance": []
    },
    "kernelspec": {
      "name": "python3",
      "display_name": "Python 3"
    },
    "language_info": {
      "name": "python"
    }
  },
  "cells": [
    {
      "cell_type": "markdown",
      "source": [
        "# AI-WEEK-02-PDF_Query_LLM"
      ],
      "metadata": {
        "id": "5HukYGqfZmo4"
      }
    },
    {
      "cell_type": "markdown",
      "source": [
        "## 1. AI를 이용해서 PDF 내용을 질문 해보기"
      ],
      "metadata": {
        "id": "akRX_PNLa8eo"
      }
    },
    {
      "cell_type": "markdown",
      "source": [
        "### 1-1. 라이브러리 설치\n",
        "- LangChain\n",
        "- OpenAI\n",
        "- TikToken\n",
        "- PyMuPDF\n",
        "- FAISS"
      ],
      "metadata": {
        "id": "Dj-gEpEWbkmt"
      }
    },
    {
      "cell_type": "code",
      "source": [
        "!pip install langchain\n",
        "!pip install openai\n",
        "!pip install tiktoken\n",
        "!pip install pymupdf\n",
        "!pip install faiss-cpu"
      ],
      "metadata": {
        "id": "qpAMQ1tBbj4-"
      },
      "execution_count": null,
      "outputs": []
    },
    {
      "cell_type": "markdown",
      "source": [
        "### 1-2. OpenAI API Key 설정"
      ],
      "metadata": {
        "id": "hryAW5G4cAKP"
      }
    },
    {
      "cell_type": "code",
      "source": [
        "import os\n",
        "os.environ[\"OPENAI_API_KEY\"] = \"{OPEN_AI_KEY}\""
      ],
      "metadata": {
        "id": "riyPVdHZcmH5"
      },
      "execution_count": 3,
      "outputs": []
    },
    {
      "cell_type": "markdown",
      "source": [
        "### 1-3. PDF파일 조회를 위해 Google Drive 연동하기\n",
        "- 테스트를 위한 PDF 파일은 [GitHub](https://github.daumkakao.com/aiweek/AI-WEEK-02-PDF_Query_LLM)에서 다운로드 가능합니다. \n",
        "- 다운로드 한 PDF 파일을 자신의 Google Drive 루트 Path에 올려주세요.\n"
      ],
      "metadata": {
        "id": "iHahldSCc66C"
      }
    },
    {
      "cell_type": "code",
      "source": [
        "from google.colab import drive\n",
        "drive.mount('/content/gdrive', force_remount=True)"
      ],
      "metadata": {
        "id": "zmLo3uIYd5CX"
      },
      "execution_count": null,
      "outputs": []
    },
    {
      "cell_type": "markdown",
      "source": [
        "### 1-4. PDF에서 텍스트 추출\n",
        "- [PyMuPDF](https://python.langchain.com/en/latest/modules/indexes/document_loaders/examples/pdf.html?highlight=PyMuPDF#using-pymupdf) : PDF 파일을 분석하고, 텍스트를 추출합니다."
      ],
      "metadata": {
        "id": "m1Gsx_5EfFpC"
      }
    },
    {
      "cell_type": "code",
      "source": [
        "from langchain.document_loaders import PyMuPDFLoader\n",
        "loader = PyMuPDFLoader('/content/gdrive/My Drive/2023_GPT4All_Technical_Report.pdf')"
      ],
      "metadata": {
        "id": "x1utHbovejlo"
      },
      "execution_count": 5,
      "outputs": []
    },
    {
      "cell_type": "code",
      "source": [
        "pages = loader.load_and_split()\n",
        "raw_text = \"\"\n",
        "for page in pages:\n",
        "    text = page.page_content\n",
        "    raw_text += text"
      ],
      "metadata": {
        "id": "RQT3AM5PnSGa"
      },
      "execution_count": 6,
      "outputs": []
    },
    {
      "cell_type": "code",
      "source": [
        "raw_text[:200]"
      ],
      "metadata": {
        "id": "q6x8gSZhfXGK"
      },
      "execution_count": null,
      "outputs": []
    },
    {
      "cell_type": "markdown",
      "source": [
        "### 1-5. 텍스트 분할\n",
        "- [CharacterTextSplitter](https://python.langchain.com/en/latest/modules/indexes/text_splitters/examples/character_text_splitter.html) : 텍스트를 분할합니다.\n",
        "- 정보를 탐색하는 동안 토큰 크기 제한에 걸리지 않도록 텍스트를 분할해야 합니다.\n",
        "- 전체 텍스트는 1,000 글자로 분할합니다.\n",
        "- 텍스트 분할 시, 문맥 유지를 위해 200 글자는 겹치도록 분할합니다."
      ],
      "metadata": {
        "id": "OWwZQbGWfklW"
      }
    },
    {
      "cell_type": "code",
      "source": [
        "from langchain.text_splitter import CharacterTextSplitter\n",
        "text_splitter = CharacterTextSplitter(        \n",
        "    separator = \"\\n\",\n",
        "    chunk_size = 1000,\n",
        "    chunk_overlap  = 200,\n",
        "    length_function = len,\n",
        ")\n",
        "texts = text_splitter.split_text(raw_text)"
      ],
      "metadata": {
        "id": "6USsxifvgrG1"
      },
      "execution_count": 8,
      "outputs": []
    },
    {
      "cell_type": "code",
      "source": [
        "len(texts)"
      ],
      "metadata": {
        "id": "Tgi3gh-Fg-0l"
      },
      "execution_count": null,
      "outputs": []
    },
    {
      "cell_type": "code",
      "source": [
        "texts[0]"
      ],
      "metadata": {
        "id": "1cramh04hBPD"
      },
      "execution_count": null,
      "outputs": []
    },
    {
      "cell_type": "code",
      "source": [
        "texts[1]"
      ],
      "metadata": {
        "id": "kbXMFEJehDn9"
      },
      "execution_count": null,
      "outputs": []
    },
    {
      "cell_type": "markdown",
      "source": [
        "### 1-6. 텍스트 임베딩 및 벡터 저장소\n",
        "- [OpenAIEmbeddings](https://python.langchain.com/en/latest/modules/models/text_embedding/examples/openai.html?highlight=OpenAIEmbeddings) : OpenAI 의 임베딩을 적용합니다.\n",
        "- [FAISS](https://python.langchain.com/en/latest/modules/indexes/vectorstores/examples/faiss.html?highlight=FAISS) : 효율적인 벡터 유사도를 구합니다.\n"
      ],
      "metadata": {
        "id": "E9TTFU08oC52"
      }
    },
    {
      "cell_type": "code",
      "source": [
        "from langchain.embeddings.openai import OpenAIEmbeddings\n",
        "from langchain.vectorstores import FAISS\n",
        "\n",
        "docsearch = FAISS.from_texts(texts, OpenAIEmbeddings())"
      ],
      "metadata": {
        "id": "QV6XiDBZhFZn"
      },
      "execution_count": 10,
      "outputs": []
    },
    {
      "cell_type": "markdown",
      "source": [
        "## 1-7. [Document Question Answering](https://python.langchain.com/en/latest/modules/chains/index_examples/vector_db_qa.html)\n",
        "- 질문과 유사도가 높은 여러 문서를 가져온 다음, LLM 을 통해 답변을 작성합니다.\n",
        "- [LangChain LLMs](https://python.langchain.com/en/latest/modules/models/llms.html) - [OpenAI](https://python.langchain.com/en/latest/reference/modules/llms.html#langchain.llms.OpenAI)\n",
        "- LangChain 의 [체이닝](https://python.langchain.com/en/latest/modules/chains/getting_started.html) 방식이 여기서 빛을 발휘합니다."
      ],
      "metadata": {
        "id": "GWniINbszRS2"
      }
    },
    {
      "cell_type": "code",
      "source": [
        "from langchain.chains import RetrievalQA\n",
        "from langchain.llms import OpenAI\n",
        "\n",
        "openai = OpenAI(temperature=0)\n",
        "qa = RetrievalQA.from_chain_type(llm=openai, chain_type=\"stuff\", retriever=docsearch.as_retriever())"
      ],
      "metadata": {
        "id": "6amUKsGKvqqP"
      },
      "execution_count": 11,
      "outputs": []
    },
    {
      "cell_type": "code",
      "source": [
        "query = \"저자는 누구입니까?\"\n",
        "qa.run(query)"
      ],
      "metadata": {
        "id": "kq0kxQp_scGi"
      },
      "execution_count": null,
      "outputs": []
    },
    {
      "cell_type": "code",
      "source": [
        "query = \"GPT4all 을 훈련시키는데 비용이 얼마나 들었나요?\"\n",
        "qa.run(query)"
      ],
      "metadata": {
        "id": "AEL27Iygv3eL"
      },
      "execution_count": null,
      "outputs": []
    },
    {
      "cell_type": "code",
      "source": [
        "query = \"훈련한 데이터셋의 사이즈는 얼마나 됩니까?\"\n",
        "qa.run(query)"
      ],
      "metadata": {
        "id": "iRTx7YQyyIFa"
      },
      "execution_count": null,
      "outputs": []
    },
    {
      "cell_type": "markdown",
      "source": [
        "### 1-8. 응용 해보기\n",
        "- 다른 PDF로 변경해서 질문을 해보세요.\n",
        "- PyMuPDF가 아닌 다른 [PDF 파서](https://python.langchain.com/en/latest/modules/indexes/document_loaders/examples/pdf.html?highlight=pdf)를 써보세요.\n",
        "- FAISS 가 아닌 [다른 VectorStore](https://python.langchain.com/en/latest/modules/indexes/vectorstores.html)를 써보세요.\n",
        "- [다양한 체이닝 방식](https://python.langchain.com/en/latest/modules/chains/index_examples/question_answering.html?highlight=load_qa_chain)을 살펴보세요."
      ],
      "metadata": {
        "id": "PLhp7qa12g2M"
      }
    }
  ]
}